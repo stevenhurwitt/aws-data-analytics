{
 "cells": [
  {
   "attachments": {},
   "cell_type": "markdown",
   "metadata": {},
   "source": [
    "# dynamo query table"
   ]
  },
  {
   "cell_type": "code",
   "execution_count": 1,
   "metadata": {},
   "outputs": [
    {
     "name": "stdout",
     "output_type": "stream",
     "text": [
      "read creds w/ secretsmanager.\n",
      "'aws-access-key'\n",
      "imported modules.\n"
     ]
    }
   ],
   "source": [
    "import os\n",
    "import json\n",
    "import time\n",
    "import boto3\n",
    "import pprint\n",
    "import datetime\n",
    "import numpy as np\n",
    "import pandas as pd\n",
    "import botocore.session\n",
    "from boto3.dynamodb.conditions import Key, Attr\n",
    "# from tweet_grab\n",
    "\n",
    "with open(\"../creds.json\", \"r\") as f:\n",
    "  creds = json.load(f)\n",
    "  f.close()\n",
    "\n",
    "try:\n",
    "  secretsmanager = boto3.client(\"secretsmanager\", region_name = \"us-east-2\")\n",
    "  creds = json.loads(secretsmanager.get_secret_value(SecretId = \"creds.json\")[\"SecretString\"])\n",
    "  print(\"read creds w/ secretsmanager.\")\n",
    "\n",
    "except Exception as e:\n",
    "  print(e)\n",
    "\n",
    "try:\n",
    "  client = boto3.client('dynamodb',\n",
    "    # endpoint_url = \"http://{}:{}\".format(creds[\"dynamo_host\"], creds[\"dynamo_port\"]),\n",
    "    aws_access_key_id=creds[\"aws-access-key\"],\n",
    "    aws_secret_access_key=creds[\"aws-secret-access-key\"],\n",
    "    region_name='us-east-2')\n",
    "\n",
    "  dynamodb = boto3.resource('dynamodb', \\\n",
    "              # endpoint_url = \"http://{}:{}\".format(creds[\"dynamo_host\"], creds[\"dynamo_port\"]), \\\n",
    "              region_name='us-east-2')\n",
    "\n",
    "  tweets = dynamodb.Table(\"tweets\")\n",
    "  print(tweets)\n",
    "\n",
    "except Exception as e:\n",
    "  print(e)\n",
    "    \n",
    "print(\"imported modules.\")"
   ]
  },
  {
   "attachments": {},
   "cell_type": "markdown",
   "metadata": {},
   "source": [
    "## query"
   ]
  },
  {
   "cell_type": "code",
   "execution_count": 2,
   "metadata": {},
   "outputs": [
    {
     "name": "stdout",
     "output_type": "stream",
     "text": [
      "query: \n",
      "select * from tweets\n",
      "\n"
     ]
    }
   ],
   "source": [
    "query = \"\"\"\n",
    "select * from tweets\n",
    "\"\"\"\n",
    "\n",
    "print(\"query: {}\".format(query))"
   ]
  },
  {
   "cell_type": "code",
   "execution_count": 3,
   "metadata": {},
   "outputs": [
    {
     "name": "stdout",
     "output_type": "stream",
     "text": [
      "/home/steven/Documents/aws-data-analytics/notebooks\n"
     ]
    }
   ],
   "source": [
    "base = os.getcwd()\n",
    "print(base)"
   ]
  },
  {
   "cell_type": "code",
   "execution_count": 4,
   "metadata": {},
   "outputs": [
    {
     "name": "stdout",
     "output_type": "stream",
     "text": [
      "creds keys:\n",
      "aws_client\n",
      "aws_secret\n",
      "spark_host\n",
      "spark_port\n",
      "url\n",
      "extra_jar_list\n",
      "bucket\n"
     ]
    }
   ],
   "source": [
    "pp = pprint.PrettyPrinter(indent = 1)\n",
    "# pp.pprint(creds)\n",
    "print(\"creds keys:\")\n",
    "for k in creds.keys():\n",
    "    print(k)"
   ]
  },
  {
   "cell_type": "code",
   "execution_count": 5,
   "metadata": {},
   "outputs": [],
   "source": [
    "# pp.pprint(creds)"
   ]
  },
  {
   "cell_type": "code",
   "execution_count": 6,
   "metadata": {},
   "outputs": [
    {
     "name": "stdout",
     "output_type": "stream",
     "text": [
      "created dynamodb resource & client.\n"
     ]
    }
   ],
   "source": [
    "dynamodb = boto3.resource('dynamodb', \\\n",
    "            #   endpoint_url = \"http://{}:{}\".format(creds[\"dynamo_host_aws\"], creds[\"dynamo_port\"]), \\\n",
    "              region_name='us-east-2')\n",
    "\n",
    "client = boto3.client('dynamodb', region_name = \"us-east-2\")\n",
    "print(\"created dynamodb resource & client.\")"
   ]
  },
  {
   "cell_type": "code",
   "execution_count": 7,
   "metadata": {},
   "outputs": [],
   "source": [
    "try:\n",
    "    result = client.scan(TableName = \"tweets\")\n",
    "\n",
    "except Exception as e:\n",
    "    print(e)"
   ]
  },
  {
   "cell_type": "code",
   "execution_count": 11,
   "metadata": {},
   "outputs": [
    {
     "name": "stdout",
     "output_type": "stream",
     "text": [
      "result keys:\n",
      "Items\n",
      "Count\n",
      "ScannedCount\n",
      "LastEvaluatedKey\n",
      "ResponseMetadata\n"
     ]
    }
   ],
   "source": [
    "print(\"result keys:\")\n",
    "for k in result.keys():\n",
    "    print(k)"
   ]
  },
  {
   "cell_type": "code",
   "execution_count": 9,
   "metadata": {},
   "outputs": [
    {
     "name": "stdout",
     "output_type": "stream",
     "text": [
      "5551\n"
     ]
    }
   ],
   "source": [
    "print(result[\"Count\"])"
   ]
  },
  {
   "cell_type": "code",
   "execution_count": null,
   "metadata": {},
   "outputs": [],
   "source": [
    "spark = SparkSession.builder.appName(\"aws\").option()"
   ]
  },
  {
   "cell_type": "code",
   "execution_count": 12,
   "metadata": {},
   "outputs": [
    {
     "name": "stdout",
     "output_type": "stream",
     "text": [
      "5551\n"
     ]
    }
   ],
   "source": [
    "df = result[\"Items\"]"
   ]
  },
  {
   "cell_type": "code",
   "execution_count": null,
   "metadata": {},
   "outputs": [],
   "source": []
  }
 ],
 "metadata": {
  "kernelspec": {
   "display_name": "aws",
   "language": "python",
   "name": "python3"
  },
  "language_info": {
   "codemirror_mode": {
    "name": "ipython",
    "version": 3
   },
   "file_extension": ".py",
   "mimetype": "text/x-python",
   "name": "python",
   "nbconvert_exporter": "python",
   "pygments_lexer": "ipython3",
   "version": "3.9.16"
  },
  "orig_nbformat": 4,
  "vscode": {
   "interpreter": {
    "hash": "fda94e2f7431d3d4e964823a72aa03a6377b2dcde79bd19077caf993a461d0cd"
   }
  }
 },
 "nbformat": 4,
 "nbformat_minor": 2
}
