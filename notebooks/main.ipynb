{
 "cells": [
  {
   "cell_type": "markdown",
   "metadata": {},
   "source": [
    "# aws"
   ]
  },
  {
   "cell_type": "code",
   "execution_count": 50,
   "metadata": {},
   "outputs": [
    {
     "name": "stdout",
     "output_type": "stream",
     "text": [
      "imported modules\n"
     ]
    }
   ],
   "source": [
    "from pyspark.sql import *\n",
    "from pyspark.sql.functions import *\n",
    "from pyspark.sql.column import *\n",
    "import pandas as pd\n",
    "import numpy as np\n",
    "import pprint\n",
    "import boto3\n",
    "import time\n",
    "import json\n",
    "import ast\n",
    "import os\n",
    "\n",
    "with open(\"./../creds.json\", \"r\") as f:\n",
    "    creds = json.load(f)\n",
    "    f.close()\n",
    "\n",
    "pp = pprint.PrettyPrinter(indent = 1)\n",
    "print(\"imported modules\")"
   ]
  },
  {
   "cell_type": "code",
   "execution_count": 43,
   "metadata": {},
   "outputs": [
    {
     "name": "stdout",
     "output_type": "stream",
     "text": [
      "created boto3 clients.\n"
     ]
    }
   ],
   "source": [
    "s3 = boto3.client(\"s3\")\n",
    "my_lambda = boto3.client(\"lambda\")\n",
    "glue = boto3.client(\"glue\")\n",
    "dynamo = boto3.client(\"dynamodb\")\n",
    "\n",
    "print(\"created boto3 clients.\")"
   ]
  },
  {
   "cell_type": "code",
   "execution_count": 44,
   "metadata": {},
   "outputs": [
    {
     "name": "stdout",
     "output_type": "stream",
     "text": [
      "['twitter-api-key',\n",
      " 'twitter-secret-key',\n",
      " 'twitter-bearer',\n",
      " 'twitter-access-token',\n",
      " 'twitter-secret-access',\n",
      " 'aws-access-key',\n",
      " 'aws-secret-access-key']\n"
     ]
    }
   ],
   "source": [
    "creds_keys = creds.keys()\n",
    "pp.pprint([d for d in creds_keys])"
   ]
  },
  {
   "attachments": {},
   "cell_type": "markdown",
   "metadata": {},
   "source": [
    "## list aws s3 bucket\n",
    "\n",
    "list reddit-streaming-stevenhurwitt-new bucket objects."
   ]
  },
  {
   "cell_type": "code",
   "execution_count": 45,
   "metadata": {},
   "outputs": [],
   "source": [
    "response = s3.list_objects_v2(\n",
    "    Bucket='reddit-streaming-stevenhurwitt-new'\n",
    ")"
   ]
  },
  {
   "attachments": {},
   "cell_type": "markdown",
   "metadata": {},
   "source": [
    "## s3 response"
   ]
  },
  {
   "cell_type": "code",
   "execution_count": 48,
   "metadata": {},
   "outputs": [
    {
     "name": "stdout",
     "output_type": "stream",
     "text": [
      "array(['BikiniBottomTwitter', 'BikiniBottomTwitter_clean',\n",
      "       'BlackPeopleTwitter', 'BlackPeopleTwitter_clean',\n",
      "       'ProgrammerHumor'], dtype='<U25')\n"
     ]
    }
   ],
   "source": [
    "uniq_keys = np.unique([k[\"Key\"].split(\"/\")[0] for k in response[\"Contents\"]])\n",
    "pp.pprint(uniq_keys)"
   ]
  },
  {
   "attachments": {},
   "cell_type": "markdown",
   "metadata": {},
   "source": [
    "## read s3 data lake file path"
   ]
  },
  {
   "cell_type": "code",
   "execution_count": null,
   "metadata": {},
   "outputs": [],
   "source": []
  },
  {
   "cell_type": "code",
   "execution_count": 49,
   "metadata": {},
   "outputs": [],
   "source": [
    "# pp.pprint(response[\"Contents\"])"
   ]
  },
  {
   "cell_type": "code",
   "execution_count": 36,
   "metadata": {},
   "outputs": [],
   "source": [
    "# ! aws s3 ls s3://reddit-streaming-stevenhurwitt-new"
   ]
  },
  {
   "cell_type": "code",
   "execution_count": null,
   "metadata": {},
   "outputs": [],
   "source": []
  }
 ],
 "metadata": {
  "kernelspec": {
   "display_name": "aws",
   "language": "python",
   "name": "python3"
  },
  "language_info": {
   "codemirror_mode": {
    "name": "ipython",
    "version": 3
   },
   "file_extension": ".py",
   "mimetype": "text/x-python",
   "name": "python",
   "nbconvert_exporter": "python",
   "pygments_lexer": "ipython3",
   "version": "3.9.16"
  },
  "orig_nbformat": 4,
  "vscode": {
   "interpreter": {
    "hash": "fda94e2f7431d3d4e964823a72aa03a6377b2dcde79bd19077caf993a461d0cd"
   }
  }
 },
 "nbformat": 4,
 "nbformat_minor": 2
}
