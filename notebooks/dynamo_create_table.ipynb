{
 "cells": [
  {
   "attachments": {},
   "cell_type": "markdown",
   "metadata": {},
   "source": [
    "# dynamo db - create table"
   ]
  },
  {
   "cell_type": "code",
   "execution_count": 15,
   "metadata": {},
   "outputs": [
    {
     "ename": "ProfileNotFound",
     "evalue": "The config profile (support) could not be found",
     "output_type": "error",
     "traceback": [
      "\u001b[0;31m---------------------------------------------------------------------------\u001b[0m",
      "\u001b[0;31mProfileNotFound\u001b[0m                           Traceback (most recent call last)",
      "Cell \u001b[0;32mIn[15], line 18\u001b[0m\n\u001b[1;32m     15\u001b[0m     f\u001b[39m.\u001b[39mclose()\n\u001b[1;32m     17\u001b[0m pp \u001b[39m=\u001b[39m pprint\u001b[39m.\u001b[39mPrettyPrinter(indent \u001b[39m=\u001b[39m \u001b[39m1\u001b[39m)\n\u001b[0;32m---> 18\u001b[0m support \u001b[39m=\u001b[39m boto3\u001b[39m.\u001b[39;49msession\u001b[39m.\u001b[39;49mSession(profile_name \u001b[39m=\u001b[39;49m \u001b[39m\"\u001b[39;49m\u001b[39msupport\u001b[39;49m\u001b[39m\"\u001b[39;49m)\n\u001b[1;32m     19\u001b[0m logging\u001b[39m.\u001b[39mbasicConfig(level \u001b[39m=\u001b[39m logging\u001b[39m.\u001b[39mINFO)\n\u001b[1;32m     20\u001b[0m logger \u001b[39m=\u001b[39m logging\u001b[39m.\u001b[39mgetLogger()\n",
      "File \u001b[0;32m~/aws-data-analytics/aws/lib/python3.8/site-packages/boto3/session.py:90\u001b[0m, in \u001b[0;36mSession.__init__\u001b[0;34m(self, aws_access_key_id, aws_secret_access_key, aws_session_token, region_name, botocore_session, profile_name)\u001b[0m\n\u001b[1;32m     85\u001b[0m     \u001b[39mself\u001b[39m\u001b[39m.\u001b[39m_session\u001b[39m.\u001b[39mset_config_variable(\u001b[39m'\u001b[39m\u001b[39mregion\u001b[39m\u001b[39m'\u001b[39m, region_name)\n\u001b[1;32m     87\u001b[0m \u001b[39mself\u001b[39m\u001b[39m.\u001b[39mresource_factory \u001b[39m=\u001b[39m ResourceFactory(\n\u001b[1;32m     88\u001b[0m     \u001b[39mself\u001b[39m\u001b[39m.\u001b[39m_session\u001b[39m.\u001b[39mget_component(\u001b[39m'\u001b[39m\u001b[39mevent_emitter\u001b[39m\u001b[39m'\u001b[39m)\n\u001b[1;32m     89\u001b[0m )\n\u001b[0;32m---> 90\u001b[0m \u001b[39mself\u001b[39;49m\u001b[39m.\u001b[39;49m_setup_loader()\n\u001b[1;32m     91\u001b[0m \u001b[39mself\u001b[39m\u001b[39m.\u001b[39m_register_default_handlers()\n",
      "File \u001b[0;32m~/aws-data-analytics/aws/lib/python3.8/site-packages/boto3/session.py:131\u001b[0m, in \u001b[0;36mSession._setup_loader\u001b[0;34m(self)\u001b[0m\n\u001b[1;32m    127\u001b[0m \u001b[39mdef\u001b[39;00m \u001b[39m_setup_loader\u001b[39m(\u001b[39mself\u001b[39m):\n\u001b[1;32m    128\u001b[0m \u001b[39m    \u001b[39m\u001b[39m\"\"\"\u001b[39;00m\n\u001b[1;32m    129\u001b[0m \u001b[39m    Setup loader paths so that we can load resources.\u001b[39;00m\n\u001b[1;32m    130\u001b[0m \u001b[39m    \"\"\"\u001b[39;00m\n\u001b[0;32m--> 131\u001b[0m     \u001b[39mself\u001b[39m\u001b[39m.\u001b[39m_loader \u001b[39m=\u001b[39m \u001b[39mself\u001b[39;49m\u001b[39m.\u001b[39;49m_session\u001b[39m.\u001b[39;49mget_component(\u001b[39m'\u001b[39;49m\u001b[39mdata_loader\u001b[39;49m\u001b[39m'\u001b[39;49m)\n\u001b[1;32m    132\u001b[0m     \u001b[39mself\u001b[39m\u001b[39m.\u001b[39m_loader\u001b[39m.\u001b[39msearch_paths\u001b[39m.\u001b[39mappend(\n\u001b[1;32m    133\u001b[0m         os\u001b[39m.\u001b[39mpath\u001b[39m.\u001b[39mjoin(os\u001b[39m.\u001b[39mpath\u001b[39m.\u001b[39mdirname(\u001b[39m__file__\u001b[39m), \u001b[39m'\u001b[39m\u001b[39mdata\u001b[39m\u001b[39m'\u001b[39m)\n\u001b[1;32m    134\u001b[0m     )\n",
      "File \u001b[0;32m~/aws-data-analytics/aws/lib/python3.8/site-packages/botocore/session.py:796\u001b[0m, in \u001b[0;36mSession.get_component\u001b[0;34m(self, name)\u001b[0m\n\u001b[1;32m    794\u001b[0m \u001b[39mdef\u001b[39;00m \u001b[39mget_component\u001b[39m(\u001b[39mself\u001b[39m, name):\n\u001b[1;32m    795\u001b[0m     \u001b[39mtry\u001b[39;00m:\n\u001b[0;32m--> 796\u001b[0m         \u001b[39mreturn\u001b[39;00m \u001b[39mself\u001b[39;49m\u001b[39m.\u001b[39;49m_components\u001b[39m.\u001b[39;49mget_component(name)\n\u001b[1;32m    797\u001b[0m     \u001b[39mexcept\u001b[39;00m \u001b[39mValueError\u001b[39;00m:\n\u001b[1;32m    798\u001b[0m         \u001b[39mif\u001b[39;00m name \u001b[39min\u001b[39;00m [\u001b[39m'\u001b[39m\u001b[39mendpoint_resolver\u001b[39m\u001b[39m'\u001b[39m, \u001b[39m'\u001b[39m\u001b[39mexceptions_factory\u001b[39m\u001b[39m'\u001b[39m]:\n",
      "File \u001b[0;32m~/aws-data-analytics/aws/lib/python3.8/site-packages/botocore/session.py:1108\u001b[0m, in \u001b[0;36mComponentLocator.get_component\u001b[0;34m(self, name)\u001b[0m\n\u001b[1;32m   1106\u001b[0m \u001b[39mif\u001b[39;00m name \u001b[39min\u001b[39;00m \u001b[39mself\u001b[39m\u001b[39m.\u001b[39m_deferred:\n\u001b[1;32m   1107\u001b[0m     factory \u001b[39m=\u001b[39m \u001b[39mself\u001b[39m\u001b[39m.\u001b[39m_deferred[name]\n\u001b[0;32m-> 1108\u001b[0m     \u001b[39mself\u001b[39m\u001b[39m.\u001b[39m_components[name] \u001b[39m=\u001b[39m factory()\n\u001b[1;32m   1109\u001b[0m     \u001b[39m# Only delete the component from the deferred dict after\u001b[39;00m\n\u001b[1;32m   1110\u001b[0m     \u001b[39m# successfully creating the object from the factory as well as\u001b[39;00m\n\u001b[1;32m   1111\u001b[0m     \u001b[39m# injecting the instantiated value into the _components dict.\u001b[39;00m\n\u001b[1;32m   1112\u001b[0m     \u001b[39mdel\u001b[39;00m \u001b[39mself\u001b[39m\u001b[39m.\u001b[39m_deferred[name]\n",
      "File \u001b[0;32m~/aws-data-analytics/aws/lib/python3.8/site-packages/botocore/session.py:193\u001b[0m, in \u001b[0;36mSession._register_data_loader.<locals>.<lambda>\u001b[0;34m()\u001b[0m\n\u001b[1;32m    190\u001b[0m \u001b[39mdef\u001b[39;00m \u001b[39m_register_data_loader\u001b[39m(\u001b[39mself\u001b[39m):\n\u001b[1;32m    191\u001b[0m     \u001b[39mself\u001b[39m\u001b[39m.\u001b[39m_components\u001b[39m.\u001b[39mlazy_register_component(\n\u001b[1;32m    192\u001b[0m         \u001b[39m'\u001b[39m\u001b[39mdata_loader\u001b[39m\u001b[39m'\u001b[39m,\n\u001b[0;32m--> 193\u001b[0m         \u001b[39mlambda\u001b[39;00m: create_loader(\u001b[39mself\u001b[39;49m\u001b[39m.\u001b[39;49mget_config_variable(\u001b[39m'\u001b[39;49m\u001b[39mdata_path\u001b[39;49m\u001b[39m'\u001b[39;49m)),\n\u001b[1;32m    194\u001b[0m     )\n",
      "File \u001b[0;32m~/aws-data-analytics/aws/lib/python3.8/site-packages/botocore/session.py:317\u001b[0m, in \u001b[0;36mSession.get_config_variable\u001b[0;34m(self, logical_name, methods)\u001b[0m\n\u001b[1;32m    313\u001b[0m \u001b[39mif\u001b[39;00m methods \u001b[39mis\u001b[39;00m \u001b[39mnot\u001b[39;00m \u001b[39mNone\u001b[39;00m:\n\u001b[1;32m    314\u001b[0m     \u001b[39mreturn\u001b[39;00m \u001b[39mself\u001b[39m\u001b[39m.\u001b[39m_get_config_variable_with_custom_methods(\n\u001b[1;32m    315\u001b[0m         logical_name, methods\n\u001b[1;32m    316\u001b[0m     )\n\u001b[0;32m--> 317\u001b[0m \u001b[39mreturn\u001b[39;00m \u001b[39mself\u001b[39;49m\u001b[39m.\u001b[39;49mget_component(\u001b[39m'\u001b[39;49m\u001b[39mconfig_store\u001b[39;49m\u001b[39m'\u001b[39;49m)\u001b[39m.\u001b[39;49mget_config_variable(\n\u001b[1;32m    318\u001b[0m     logical_name\n\u001b[1;32m    319\u001b[0m )\n",
      "File \u001b[0;32m~/aws-data-analytics/aws/lib/python3.8/site-packages/botocore/configprovider.py:426\u001b[0m, in \u001b[0;36mConfigValueStore.get_config_variable\u001b[0;34m(self, logical_name)\u001b[0m\n\u001b[1;32m    424\u001b[0m     \u001b[39mreturn\u001b[39;00m \u001b[39mNone\u001b[39;00m\n\u001b[1;32m    425\u001b[0m provider \u001b[39m=\u001b[39m \u001b[39mself\u001b[39m\u001b[39m.\u001b[39m_mapping[logical_name]\n\u001b[0;32m--> 426\u001b[0m \u001b[39mreturn\u001b[39;00m provider\u001b[39m.\u001b[39;49mprovide()\n",
      "File \u001b[0;32m~/aws-data-analytics/aws/lib/python3.8/site-packages/botocore/configprovider.py:628\u001b[0m, in \u001b[0;36mChainProvider.provide\u001b[0;34m(self)\u001b[0m\n\u001b[1;32m    621\u001b[0m \u001b[39m\u001b[39m\u001b[39m\"\"\"Provide the value from the first provider to return non-None.\u001b[39;00m\n\u001b[1;32m    622\u001b[0m \n\u001b[1;32m    623\u001b[0m \u001b[39mEach provider in the chain has its provide method called. The first\u001b[39;00m\n\u001b[1;32m    624\u001b[0m \u001b[39mone in the chain to return a non-None value is the returned from the\u001b[39;00m\n\u001b[1;32m    625\u001b[0m \u001b[39mChainProvider. When no non-None value is found, None is returned.\u001b[39;00m\n\u001b[1;32m    626\u001b[0m \u001b[39m\"\"\"\u001b[39;00m\n\u001b[1;32m    627\u001b[0m \u001b[39mfor\u001b[39;00m provider \u001b[39min\u001b[39;00m \u001b[39mself\u001b[39m\u001b[39m.\u001b[39m_providers:\n\u001b[0;32m--> 628\u001b[0m     value \u001b[39m=\u001b[39m provider\u001b[39m.\u001b[39;49mprovide()\n\u001b[1;32m    629\u001b[0m     \u001b[39mif\u001b[39;00m value \u001b[39mis\u001b[39;00m \u001b[39mnot\u001b[39;00m \u001b[39mNone\u001b[39;00m:\n\u001b[1;32m    630\u001b[0m         \u001b[39mreturn\u001b[39;00m \u001b[39mself\u001b[39m\u001b[39m.\u001b[39m_convert_type(value)\n",
      "File \u001b[0;32m~/aws-data-analytics/aws/lib/python3.8/site-packages/botocore/configprovider.py:718\u001b[0m, in \u001b[0;36mScopedConfigProvider.provide\u001b[0;34m(self)\u001b[0m\n\u001b[1;32m    716\u001b[0m \u001b[39mdef\u001b[39;00m \u001b[39mprovide\u001b[39m(\u001b[39mself\u001b[39m):\n\u001b[1;32m    717\u001b[0m \u001b[39m    \u001b[39m\u001b[39m\"\"\"Provide a value from a config file property.\"\"\"\u001b[39;00m\n\u001b[0;32m--> 718\u001b[0m     scoped_config \u001b[39m=\u001b[39m \u001b[39mself\u001b[39;49m\u001b[39m.\u001b[39;49m_session\u001b[39m.\u001b[39;49mget_scoped_config()\n\u001b[1;32m    719\u001b[0m     \u001b[39mif\u001b[39;00m \u001b[39misinstance\u001b[39m(\u001b[39mself\u001b[39m\u001b[39m.\u001b[39m_config_var_name, \u001b[39mtuple\u001b[39m):\n\u001b[1;32m    720\u001b[0m         section_config \u001b[39m=\u001b[39m scoped_config\u001b[39m.\u001b[39mget(\u001b[39mself\u001b[39m\u001b[39m.\u001b[39m_config_var_name[\u001b[39m0\u001b[39m])\n",
      "File \u001b[0;32m~/aws-data-analytics/aws/lib/python3.8/site-packages/botocore/session.py:416\u001b[0m, in \u001b[0;36mSession.get_scoped_config\u001b[0;34m(self)\u001b[0m\n\u001b[1;32m    411\u001b[0m     \u001b[39mreturn\u001b[39;00m profile_map\u001b[39m.\u001b[39mget(\u001b[39m'\u001b[39m\u001b[39mdefault\u001b[39m\u001b[39m'\u001b[39m, {})\n\u001b[1;32m    412\u001b[0m \u001b[39melif\u001b[39;00m profile_name \u001b[39mnot\u001b[39;00m \u001b[39min\u001b[39;00m profile_map:\n\u001b[1;32m    413\u001b[0m     \u001b[39m# Otherwise if they specified a profile, it has to\u001b[39;00m\n\u001b[1;32m    414\u001b[0m     \u001b[39m# exist (even if it's the default profile) otherwise\u001b[39;00m\n\u001b[1;32m    415\u001b[0m     \u001b[39m# we complain.\u001b[39;00m\n\u001b[0;32m--> 416\u001b[0m     \u001b[39mraise\u001b[39;00m ProfileNotFound(profile\u001b[39m=\u001b[39mprofile_name)\n\u001b[1;32m    417\u001b[0m \u001b[39melse\u001b[39;00m:\n\u001b[1;32m    418\u001b[0m     \u001b[39mreturn\u001b[39;00m profile_map[profile_name]\n",
      "\u001b[0;31mProfileNotFound\u001b[0m: The config profile (support) could not be found"
     ]
    }
   ],
   "source": [
    "import os\n",
    "import json\n",
    "import time\n",
    "import boto3\n",
    "import pprint\n",
    "import logging\n",
    "import datetime\n",
    "import numpy as np\n",
    "import pandas as pd\n",
    "import botocore.session\n",
    "from boto3.dynamodb.conditions import Key, Attr\n",
    "\n",
    "with open(\"../creds.json\", \"r\") as f:\n",
    "    creds = json.load(f)\n",
    "    f.close()\n",
    "    \n",
    "pp = pprint.PrettyPrinter(indent = 1)\n",
    "support = boto3.session.Session(profile_name = \"support\")\n",
    "logging.basicConfig(level = logging.INFO)\n",
    "logger = logging.getLogger()\n",
    "logger.setLevel(logging.INFO)\n",
    "print(\"imported modules.\")"
   ]
  },
  {
   "attachments": {},
   "cell_type": "markdown",
   "metadata": {},
   "source": [
    "## dynamodb client"
   ]
  },
  {
   "cell_type": "code",
   "execution_count": 10,
   "metadata": {},
   "outputs": [
    {
     "name": "stdout",
     "output_type": "stream",
     "text": [
      "created dynamo client.\n"
     ]
    }
   ],
   "source": [
    "client = boto3.client('dynamodb',\n",
    "  # endpoint_url = \"http://{}:{}\".format(creds[\"dynamo_host\"], creds[\"dynamo_port\"]),\n",
    "  aws_access_key_id=creds[\"aws_client\"],\n",
    "  aws_secret_access_key=creds[\"aws_secret\"],\n",
    "  region_name='us-east-2')\n",
    "\n",
    "dynamodb = boto3.resource('dynamodb', \\\n",
    "            # endpoint_url = \"http://{}:{}\".format(creds[\"dynamo_host\"], creds[\"dynamo_port\"]), \\\n",
    "            region_name='us-east-2')\n",
    "\n",
    "print(\"created dynamo client.\")"
   ]
  },
  {
   "attachments": {},
   "cell_type": "markdown",
   "metadata": {},
   "source": [
    "## create dynamo table"
   ]
  },
  {
   "cell_type": "code",
   "execution_count": 3,
   "metadata": {},
   "outputs": [
    {
     "name": "stdout",
     "output_type": "stream",
     "text": [
      "Table status: ACTIVE\n"
     ]
    }
   ],
   "source": [
    "table = dynamodb.create_table(\n",
    "    TableName='tweets',\n",
    "    KeySchema=[\n",
    "        {\n",
    "            'AttributeName': 'user',\n",
    "            'KeyType': 'HASH'  #Partition key\n",
    "        },\n",
    "        {\n",
    "            'AttributeName': 'created_at',\n",
    "            'KeyType': 'RANGE'  #Sort key\n",
    "        }\n",
    "    ],\n",
    "    AttributeDefinitions=[\n",
    "        {\n",
    "            'AttributeName': 'user',\n",
    "            'AttributeType': 'S'\n",
    "        },\n",
    "        {\n",
    "            'AttributeName': 'created_at',\n",
    "            'AttributeType': 'S'\n",
    "        }\n",
    "\n",
    "    ],\n",
    "    ProvisionedThroughput={\n",
    "        'ReadCapacityUnits': 10,\n",
    "        'WriteCapacityUnits': 10\n",
    "    }\n",
    ")\n",
    "\n",
    "print(\"Table status:\", table.table_status)"
   ]
  },
  {
   "attachments": {},
   "cell_type": "markdown",
   "metadata": {},
   "source": [
    "## wait for table creation"
   ]
  },
  {
   "cell_type": "code",
   "execution_count": 4,
   "metadata": {},
   "outputs": [
    {
     "ename": "WaiterError",
     "evalue": "Waiter TableExists failed: Max attempts exceeded. Previously accepted state: Matched expected service error code: ResourceNotFoundException",
     "output_type": "error",
     "traceback": [
      "\u001b[0;31m---------------------------------------------------------------------------\u001b[0m",
      "\u001b[0;31mWaiterError\u001b[0m                               Traceback (most recent call last)",
      "Cell \u001b[0;32mIn[4], line 9\u001b[0m\n\u001b[1;32m      2\u001b[0m dynamodb_session \u001b[39m=\u001b[39m session\u001b[39m.\u001b[39mcreate_client(\u001b[39m'\u001b[39m\u001b[39mdynamodb\u001b[39m\u001b[39m'\u001b[39m, \\\n\u001b[1;32m      3\u001b[0m                     region_name\u001b[39m=\u001b[39m\u001b[39m'\u001b[39m\u001b[39mus-east-2\u001b[39m\u001b[39m'\u001b[39m,\n\u001b[1;32m      4\u001b[0m                     endpoint_url \u001b[39m=\u001b[39m \u001b[39m\"\u001b[39m\u001b[39mhttp://\u001b[39m\u001b[39m{}\u001b[39;00m\u001b[39m:\u001b[39m\u001b[39m{}\u001b[39;00m\u001b[39m\"\u001b[39m\u001b[39m.\u001b[39mformat(creds[\u001b[39m\"\u001b[39m\u001b[39mdynamo_host\u001b[39m\u001b[39m\"\u001b[39m], creds[\u001b[39m\"\u001b[39m\u001b[39mdynamo_port\u001b[39m\u001b[39m\"\u001b[39m]),\n\u001b[1;32m      5\u001b[0m                     aws_access_key_id\u001b[39m=\u001b[39mcreds[\u001b[39m\"\u001b[39m\u001b[39maws-access-key\u001b[39m\u001b[39m\"\u001b[39m],\n\u001b[1;32m      6\u001b[0m                     aws_secret_access_key\u001b[39m=\u001b[39mcreds[\u001b[39m\"\u001b[39m\u001b[39maws-secret-access-key\u001b[39m\u001b[39m\"\u001b[39m]) \u001b[39m# low-level client\u001b[39;00m\n\u001b[1;32m      8\u001b[0m waiter \u001b[39m=\u001b[39m dynamodb_session\u001b[39m.\u001b[39mget_waiter(\u001b[39m'\u001b[39m\u001b[39mtable_exists\u001b[39m\u001b[39m'\u001b[39m)\n\u001b[0;32m----> 9\u001b[0m waiter\u001b[39m.\u001b[39;49mwait(TableName\u001b[39m=\u001b[39;49m\u001b[39m\"\u001b[39;49m\u001b[39mtweets\u001b[39;49m\u001b[39m\"\u001b[39;49m)\n",
      "File \u001b[0;32m~/miniconda3/envs/aws/lib/python3.9/site-packages/botocore/waiter.py:55\u001b[0m, in \u001b[0;36mcreate_waiter_with_client.<locals>.wait\u001b[0;34m(self, **kwargs)\u001b[0m\n\u001b[1;32m     54\u001b[0m \u001b[39mdef\u001b[39;00m \u001b[39mwait\u001b[39m(\u001b[39mself\u001b[39m, \u001b[39m*\u001b[39m\u001b[39m*\u001b[39mkwargs):\n\u001b[0;32m---> 55\u001b[0m     Waiter\u001b[39m.\u001b[39;49mwait(\u001b[39mself\u001b[39;49m, \u001b[39m*\u001b[39;49m\u001b[39m*\u001b[39;49mkwargs)\n",
      "File \u001b[0;32m~/miniconda3/envs/aws/lib/python3.9/site-packages/botocore/waiter.py:388\u001b[0m, in \u001b[0;36mWaiter.wait\u001b[0;34m(self, **kwargs)\u001b[0m\n\u001b[1;32m    383\u001b[0m     \u001b[39melse\u001b[39;00m:\n\u001b[1;32m    384\u001b[0m         reason \u001b[39m=\u001b[39m (\n\u001b[1;32m    385\u001b[0m             \u001b[39m'\u001b[39m\u001b[39mMax attempts exceeded. Previously accepted state: \u001b[39m\u001b[39m%s\u001b[39;00m\u001b[39m'\u001b[39m\n\u001b[1;32m    386\u001b[0m             \u001b[39m%\u001b[39m (acceptor\u001b[39m.\u001b[39mexplanation)\n\u001b[1;32m    387\u001b[0m         )\n\u001b[0;32m--> 388\u001b[0m     \u001b[39mraise\u001b[39;00m WaiterError(\n\u001b[1;32m    389\u001b[0m         name\u001b[39m=\u001b[39m\u001b[39mself\u001b[39m\u001b[39m.\u001b[39mname,\n\u001b[1;32m    390\u001b[0m         reason\u001b[39m=\u001b[39mreason,\n\u001b[1;32m    391\u001b[0m         last_response\u001b[39m=\u001b[39mresponse,\n\u001b[1;32m    392\u001b[0m     )\n\u001b[1;32m    393\u001b[0m time\u001b[39m.\u001b[39msleep(sleep_amount)\n",
      "\u001b[0;31mWaiterError\u001b[0m: Waiter TableExists failed: Max attempts exceeded. Previously accepted state: Matched expected service error code: ResourceNotFoundException"
     ]
    }
   ],
   "source": [
    "session = botocore.session.get_session()\n",
    "dynamodb_session = session.create_client('dynamodb', \\\n",
    "                    region_name='us-east-2',\n",
    "                    endpoint_url = \"http://{}:{}\".format(creds[\"dynamo_host\"], creds[\"dynamo_port\"]),\n",
    "                    aws_access_key_id=creds[\"aws-access-key\"],\n",
    "                    aws_secret_access_key=creds[\"aws-secret-access-key\"]) # low-level client\n",
    "\n",
    "waiter = dynamodb_session.get_waiter('table_exists')\n",
    "waiter.wait(TableName=\"tweets\")"
   ]
  },
  {
   "cell_type": "code",
   "execution_count": 5,
   "metadata": {},
   "outputs": [
    {
     "name": "stdout",
     "output_type": "stream",
     "text": [
      "Table status: ACTIVE\n"
     ]
    }
   ],
   "source": [
    "print(\"Table status:\", table.table_status)"
   ]
  },
  {
   "attachments": {},
   "cell_type": "markdown",
   "metadata": {},
   "source": [
    "## scan tweets table"
   ]
  },
  {
   "cell_type": "code",
   "execution_count": 11,
   "metadata": {},
   "outputs": [
    {
     "ename": "ClientError",
     "evalue": "An error occurred (InvalidSignatureException) when calling the Scan operation: The request signature we calculated does not match the signature you provided. Check your AWS Secret Access Key and signing method. Consult the service documentation for details.",
     "output_type": "error",
     "traceback": [
      "\u001b[0;31m---------------------------------------------------------------------------\u001b[0m",
      "\u001b[0;31mClientError\u001b[0m                               Traceback (most recent call last)",
      "Cell \u001b[0;32mIn[11], line 3\u001b[0m\n\u001b[1;32m      1\u001b[0m tweets \u001b[39m=\u001b[39m dynamodb\u001b[39m.\u001b[39mTable(\u001b[39m\"\u001b[39m\u001b[39mtweets\u001b[39m\u001b[39m\"\u001b[39m)\n\u001b[0;32m----> 3\u001b[0m response \u001b[39m=\u001b[39m tweets\u001b[39m.\u001b[39;49mscan()\n",
      "File \u001b[0;32m~/aws-data-analytics/aws/lib/python3.8/site-packages/boto3/resources/factory.py:580\u001b[0m, in \u001b[0;36mResourceFactory._create_action.<locals>.do_action\u001b[0;34m(self, *args, **kwargs)\u001b[0m\n\u001b[1;32m    579\u001b[0m \u001b[39mdef\u001b[39;00m \u001b[39mdo_action\u001b[39m(\u001b[39mself\u001b[39m, \u001b[39m*\u001b[39margs, \u001b[39m*\u001b[39m\u001b[39m*\u001b[39mkwargs):\n\u001b[0;32m--> 580\u001b[0m     response \u001b[39m=\u001b[39m action(\u001b[39mself\u001b[39;49m, \u001b[39m*\u001b[39;49margs, \u001b[39m*\u001b[39;49m\u001b[39m*\u001b[39;49mkwargs)\n\u001b[1;32m    582\u001b[0m     \u001b[39mif\u001b[39;00m \u001b[39mhasattr\u001b[39m(\u001b[39mself\u001b[39m, \u001b[39m'\u001b[39m\u001b[39mload\u001b[39m\u001b[39m'\u001b[39m):\n\u001b[1;32m    583\u001b[0m         \u001b[39m# Clear cached data. It will be reloaded the next\u001b[39;00m\n\u001b[1;32m    584\u001b[0m         \u001b[39m# time that an attribute is accessed.\u001b[39;00m\n\u001b[1;32m    585\u001b[0m         \u001b[39m# TODO: Make this configurable in the future?\u001b[39;00m\n\u001b[1;32m    586\u001b[0m         \u001b[39mself\u001b[39m\u001b[39m.\u001b[39mmeta\u001b[39m.\u001b[39mdata \u001b[39m=\u001b[39m \u001b[39mNone\u001b[39;00m\n",
      "File \u001b[0;32m~/aws-data-analytics/aws/lib/python3.8/site-packages/boto3/resources/action.py:88\u001b[0m, in \u001b[0;36mServiceAction.__call__\u001b[0;34m(self, parent, *args, **kwargs)\u001b[0m\n\u001b[1;32m     79\u001b[0m params\u001b[39m.\u001b[39mupdate(kwargs)\n\u001b[1;32m     81\u001b[0m logger\u001b[39m.\u001b[39mdebug(\n\u001b[1;32m     82\u001b[0m     \u001b[39m'\u001b[39m\u001b[39mCalling \u001b[39m\u001b[39m%s\u001b[39;00m\u001b[39m:\u001b[39m\u001b[39m%s\u001b[39;00m\u001b[39m with \u001b[39m\u001b[39m%r\u001b[39;00m\u001b[39m'\u001b[39m,\n\u001b[1;32m     83\u001b[0m     parent\u001b[39m.\u001b[39mmeta\u001b[39m.\u001b[39mservice_name,\n\u001b[1;32m     84\u001b[0m     operation_name,\n\u001b[1;32m     85\u001b[0m     params,\n\u001b[1;32m     86\u001b[0m )\n\u001b[0;32m---> 88\u001b[0m response \u001b[39m=\u001b[39m \u001b[39mgetattr\u001b[39;49m(parent\u001b[39m.\u001b[39;49mmeta\u001b[39m.\u001b[39;49mclient, operation_name)(\u001b[39m*\u001b[39;49margs, \u001b[39m*\u001b[39;49m\u001b[39m*\u001b[39;49mparams)\n\u001b[1;32m     90\u001b[0m logger\u001b[39m.\u001b[39mdebug(\u001b[39m'\u001b[39m\u001b[39mResponse: \u001b[39m\u001b[39m%r\u001b[39;00m\u001b[39m'\u001b[39m, response)\n\u001b[1;32m     92\u001b[0m \u001b[39mreturn\u001b[39;00m \u001b[39mself\u001b[39m\u001b[39m.\u001b[39m_response_handler(parent, params, response)\n",
      "File \u001b[0;32m~/aws-data-analytics/aws/lib/python3.8/site-packages/botocore/client.py:530\u001b[0m, in \u001b[0;36mClientCreator._create_api_method.<locals>._api_call\u001b[0;34m(self, *args, **kwargs)\u001b[0m\n\u001b[1;32m    526\u001b[0m     \u001b[39mraise\u001b[39;00m \u001b[39mTypeError\u001b[39;00m(\n\u001b[1;32m    527\u001b[0m         \u001b[39mf\u001b[39m\u001b[39m\"\u001b[39m\u001b[39m{\u001b[39;00mpy_operation_name\u001b[39m}\u001b[39;00m\u001b[39m() only accepts keyword arguments.\u001b[39m\u001b[39m\"\u001b[39m\n\u001b[1;32m    528\u001b[0m     )\n\u001b[1;32m    529\u001b[0m \u001b[39m# The \"self\" in this scope is referring to the BaseClient.\u001b[39;00m\n\u001b[0;32m--> 530\u001b[0m \u001b[39mreturn\u001b[39;00m \u001b[39mself\u001b[39;49m\u001b[39m.\u001b[39;49m_make_api_call(operation_name, kwargs)\n",
      "File \u001b[0;32m~/aws-data-analytics/aws/lib/python3.8/site-packages/botocore/client.py:960\u001b[0m, in \u001b[0;36mBaseClient._make_api_call\u001b[0;34m(self, operation_name, api_params)\u001b[0m\n\u001b[1;32m    958\u001b[0m     error_code \u001b[39m=\u001b[39m parsed_response\u001b[39m.\u001b[39mget(\u001b[39m\"\u001b[39m\u001b[39mError\u001b[39m\u001b[39m\"\u001b[39m, {})\u001b[39m.\u001b[39mget(\u001b[39m\"\u001b[39m\u001b[39mCode\u001b[39m\u001b[39m\"\u001b[39m)\n\u001b[1;32m    959\u001b[0m     error_class \u001b[39m=\u001b[39m \u001b[39mself\u001b[39m\u001b[39m.\u001b[39mexceptions\u001b[39m.\u001b[39mfrom_code(error_code)\n\u001b[0;32m--> 960\u001b[0m     \u001b[39mraise\u001b[39;00m error_class(parsed_response, operation_name)\n\u001b[1;32m    961\u001b[0m \u001b[39melse\u001b[39;00m:\n\u001b[1;32m    962\u001b[0m     \u001b[39mreturn\u001b[39;00m parsed_response\n",
      "\u001b[0;31mClientError\u001b[0m: An error occurred (InvalidSignatureException) when calling the Scan operation: The request signature we calculated does not match the signature you provided. Check your AWS Secret Access Key and signing method. Consult the service documentation for details."
     ]
    }
   ],
   "source": [
    "tweets = dynamodb.Table(\"tweets\")\n",
    "\n",
    "response = tweets.scan()"
   ]
  },
  {
   "cell_type": "code",
   "execution_count": 12,
   "metadata": {},
   "outputs": [
    {
     "ename": "NameError",
     "evalue": "name 'response' is not defined",
     "output_type": "error",
     "traceback": [
      "\u001b[0;31m---------------------------------------------------------------------------\u001b[0m",
      "\u001b[0;31mNameError\u001b[0m                                 Traceback (most recent call last)",
      "Cell \u001b[0;32mIn[12], line 1\u001b[0m\n\u001b[0;32m----> 1\u001b[0m response\n",
      "\u001b[0;31mNameError\u001b[0m: name 'response' is not defined"
     ]
    }
   ],
   "source": [
    "response"
   ]
  },
  {
   "cell_type": "code",
   "execution_count": 13,
   "metadata": {
    "vscode": {
     "languageId": "shellscript"
    }
   },
   "outputs": [
    {
     "name": "stdout",
     "output_type": "stream",
     "text": [
      "\n",
      "An error occurred (InvalidSignatureException) when calling the ListTables operation: The request signature we calculated does not match the signature you provided. Check your AWS Secret Access Key and signing method. Consult the service documentation for details.\n"
     ]
    }
   ],
   "source": [
    "! aws dynamodb list-tables \n",
    "# --endpoint-url http://xanaxprincess.asuscomm.com:8000"
   ]
  },
  {
   "cell_type": "code",
   "execution_count": 14,
   "metadata": {
    "vscode": {
     "languageId": "shellscript"
    }
   },
   "outputs": [
    {
     "name": "stdout",
     "output_type": "stream",
     "text": [
      "\n",
      "An error occurred (InvalidSignatureException) when calling the DescribeTable operation: The request signature we calculated does not match the signature you provided. Check your AWS Secret Access Key and signing method. Consult the service documentation for details.\n"
     ]
    }
   ],
   "source": [
    "! aws dynamodb describe-table --table-name \"tweets\"\n",
    "# --endpoint-url http://xanaxprincess.asuscomm.com:8000"
   ]
  },
  {
   "cell_type": "code",
   "execution_count": null,
   "metadata": {},
   "outputs": [],
   "source": []
  }
 ],
 "metadata": {
  "kernelspec": {
   "display_name": "aws",
   "language": "python",
   "name": "python3"
  },
  "language_info": {
   "codemirror_mode": {
    "name": "ipython",
    "version": 3
   },
   "file_extension": ".py",
   "mimetype": "text/x-python",
   "name": "python",
   "nbconvert_exporter": "python",
   "pygments_lexer": "ipython3",
   "version": "3.8.10"
  },
  "orig_nbformat": 4,
  "vscode": {
   "interpreter": {
    "hash": "34788fd37db336491c00e1009429e219424d0e5865adefcac1db6e29c603c8e9"
   }
  }
 },
 "nbformat": 4,
 "nbformat_minor": 2
}
